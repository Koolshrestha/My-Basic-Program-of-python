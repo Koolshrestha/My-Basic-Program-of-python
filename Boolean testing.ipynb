{
 "cells": [
  {
   "cell_type": "code",
   "execution_count": 1,
   "id": "44f435a4-6b4a-4c5f-a194-1cb848e0e8db",
   "metadata": {},
   "outputs": [
    {
     "data": {
      "text/plain": [
       "True"
      ]
     },
     "execution_count": 1,
     "metadata": {},
     "output_type": "execute_result"
    }
   ],
   "source": [
    "True\n"
   ]
  },
  {
   "cell_type": "code",
   "execution_count": 2,
   "id": "1625aa50-73b2-4cf8-aa31-52647adedd4f",
   "metadata": {},
   "outputs": [
    {
     "data": {
      "text/plain": [
       "False"
      ]
     },
     "execution_count": 2,
     "metadata": {},
     "output_type": "execute_result"
    }
   ],
   "source": [
    "False"
   ]
  },
  {
   "cell_type": "code",
   "execution_count": 3,
   "id": "f4dc105e-17e1-4673-8486-fdce64e9746b",
   "metadata": {},
   "outputs": [
    {
     "data": {
      "text/plain": [
       "1"
      ]
     },
     "execution_count": 3,
     "metadata": {},
     "output_type": "execute_result"
    }
   ],
   "source": [
    "int(True)"
   ]
  },
  {
   "cell_type": "code",
   "execution_count": 4,
   "id": "d26d5afa-917a-4bfb-8cc7-acec3150fea7",
   "metadata": {},
   "outputs": [
    {
     "data": {
      "text/plain": [
       "0"
      ]
     },
     "execution_count": 4,
     "metadata": {},
     "output_type": "execute_result"
    }
   ],
   "source": [
    "int(False)"
   ]
  },
  {
   "cell_type": "code",
   "execution_count": 5,
   "id": "145331f3-b142-49d9-bfb9-f3c690168dad",
   "metadata": {},
   "outputs": [
    {
     "data": {
      "text/plain": [
       "0"
      ]
     },
     "execution_count": 5,
     "metadata": {},
     "output_type": "execute_result"
    }
   ],
   "source": [
    "False * True\n"
   ]
  },
  {
   "cell_type": "code",
   "execution_count": 6,
   "id": "b65c5fc2-7e0e-43b8-acda-7503a3197fd4",
   "metadata": {},
   "outputs": [
    {
     "data": {
      "text/plain": [
       "0"
      ]
     },
     "execution_count": 6,
     "metadata": {},
     "output_type": "execute_result"
    }
   ],
   "source": [
    "False * int(True)"
   ]
  },
  {
   "cell_type": "code",
   "execution_count": 8,
   "id": "87c7e3bf-0bcb-4b54-bae2-ccf10b0a8e45",
   "metadata": {},
   "outputs": [
    {
     "data": {
      "text/plain": [
       "0"
      ]
     },
     "execution_count": 8,
     "metadata": {},
     "output_type": "execute_result"
    }
   ],
   "source": [
    "int( False) * True"
   ]
  },
  {
   "cell_type": "code",
   "execution_count": 10,
   "id": "20aba10f-f54b-4a85-bca1-9276a1bcc668",
   "metadata": {},
   "outputs": [
    {
     "data": {
      "text/plain": [
       "0"
      ]
     },
     "execution_count": 10,
     "metadata": {},
     "output_type": "execute_result"
    }
   ],
   "source": [
    "int(False * True)"
   ]
  },
  {
   "cell_type": "code",
   "execution_count": 11,
   "id": "f4f77238-faba-410a-830e-59f7157ce5a2",
   "metadata": {},
   "outputs": [
    {
     "data": {
      "text/plain": [
       "True"
      ]
     },
     "execution_count": 11,
     "metadata": {},
     "output_type": "execute_result"
    }
   ],
   "source": [
    "not False * True"
   ]
  },
  {
   "cell_type": "code",
   "execution_count": 12,
   "id": "4f8f8469-f4b1-4ca8-afbe-339e33b30aec",
   "metadata": {},
   "outputs": [
    {
     "data": {
      "text/plain": [
       "True"
      ]
     },
     "execution_count": 12,
     "metadata": {},
     "output_type": "execute_result"
    }
   ],
   "source": [
    "(not False * True)"
   ]
  },
  {
   "cell_type": "code",
   "execution_count": 14,
   "id": "c54339ce-67ec-4d2c-918b-4520a00706a9",
   "metadata": {},
   "outputs": [
    {
     "data": {
      "text/plain": [
       "1"
      ]
     },
     "execution_count": 14,
     "metadata": {},
     "output_type": "execute_result"
    }
   ],
   "source": [
    "int(not False * True)"
   ]
  },
  {
   "cell_type": "code",
   "execution_count": 15,
   "id": "1cd077c0-7ce6-4f6c-a3fe-61f26897874e",
   "metadata": {},
   "outputs": [
    {
     "data": {
      "text/plain": [
       "True"
      ]
     },
     "execution_count": 15,
     "metadata": {},
     "output_type": "execute_result"
    }
   ],
   "source": [
    "not (False * False)"
   ]
  },
  {
   "cell_type": "code",
   "execution_count": 16,
   "id": "6ef3b6dd-99a2-4166-8fe2-77776e36677f",
   "metadata": {},
   "outputs": [
    {
     "data": {
      "text/plain": [
       "0"
      ]
     },
     "execution_count": 16,
     "metadata": {},
     "output_type": "execute_result"
    }
   ],
   "source": [
    "int (False * False)"
   ]
  },
  {
   "cell_type": "code",
   "execution_count": 17,
   "id": "e5842725-6596-4764-afc9-829d21f8adc8",
   "metadata": {},
   "outputs": [
    {
     "data": {
      "text/plain": [
       "1"
      ]
     },
     "execution_count": 17,
     "metadata": {},
     "output_type": "execute_result"
    }
   ],
   "source": [
    "int(not (False * False))"
   ]
  },
  {
   "cell_type": "code",
   "execution_count": 18,
   "id": "8d43617e-e49e-4a99-86a3-3ca9f0b5fb14",
   "metadata": {},
   "outputs": [
    {
     "data": {
      "text/plain": [
       "True"
      ]
     },
     "execution_count": 18,
     "metadata": {},
     "output_type": "execute_result"
    }
   ],
   "source": [
    "not (False) * True \n"
   ]
  },
  {
   "cell_type": "code",
   "execution_count": 19,
   "id": "286db58e-afce-4d2f-9c40-2dd630498b0f",
   "metadata": {},
   "outputs": [
    {
     "data": {
      "text/plain": [
       "1"
      ]
     },
     "execution_count": 19,
     "metadata": {},
     "output_type": "execute_result"
    }
   ],
   "source": [
    "int (not (False) * True )"
   ]
  },
  {
   "cell_type": "code",
   "execution_count": 22,
   "id": "fd2c889d-5bd5-4bab-bfb4-ad680e281385",
   "metadata": {},
   "outputs": [
    {
     "data": {
      "text/plain": [
       "0"
      ]
     },
     "execution_count": 22,
     "metadata": {},
     "output_type": "execute_result"
    }
   ],
   "source": [
    "False *  (not True)"
   ]
  },
  {
   "cell_type": "code",
   "execution_count": null,
   "id": "aa33edc6-ed6f-43af-8e9c-cd08d64985e8",
   "metadata": {},
   "outputs": [],
   "source": []
  }
 ],
 "metadata": {
  "kernelspec": {
   "display_name": "Python 3 (ipykernel)",
   "language": "python",
   "name": "python3"
  },
  "language_info": {
   "codemirror_mode": {
    "name": "ipython",
    "version": 3
   },
   "file_extension": ".py",
   "mimetype": "text/x-python",
   "name": "python",
   "nbconvert_exporter": "python",
   "pygments_lexer": "ipython3",
   "version": "3.10.8"
  }
 },
 "nbformat": 4,
 "nbformat_minor": 5
}
