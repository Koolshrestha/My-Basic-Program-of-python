{
 "cells": [
  {
   "cell_type": "code",
   "execution_count": 14,
   "id": "587c7111-bfa6-43f1-9e14-81c702a35f89",
   "metadata": {},
   "outputs": [
    {
     "name": "stdout",
     "output_type": "stream",
     "text": [
      "1 3 5 "
     ]
    }
   ],
   "source": [
    "for i in (range (1,7,2)):\n",
    "  print (i, end=' ')"
   ]
  },
  {
   "cell_type": "code",
   "execution_count": 16,
   "id": "8676b15a-0c34-408c-bc29-d9066b82ba9c",
   "metadata": {},
   "outputs": [
    {
     "name": "stdout",
     "output_type": "stream",
     "text": [
      "*\n",
      "**\n",
      "***\n",
      "****\n",
      "*****\n",
      "******\n",
      "*******\n",
      "********\n",
      "*********\n",
      "**********\n"
     ]
    }
   ],
   "source": [
    "n = 10 \n",
    "for j in range(0,n):\n",
    "    for k in range(0, j+1):\n",
    "       print(\"*\",end=\"\")\n",
    "    print(\"\\r\") "
   ]
  },
  {
   "cell_type": "code",
   "execution_count": 17,
   "id": "f2b9d144-4a21-4841-be9f-f4633c7880ed",
   "metadata": {},
   "outputs": [
    {
     "name": "stdout",
     "output_type": "stream",
     "text": [
      "         *\n",
      "        ***\n",
      "       *****\n",
      "      *******\n",
      "     *********\n",
      "    ***********\n",
      "   *************\n",
      "  ***************\n",
      " *****************\n",
      "*******************\n"
     ]
    }
   ],
   "source": [
    "n = 10\n",
    "for i in range(1, n + 1):\n",
    "    # Print spaces before the stars\n",
    "    for j in range(n - i):\n",
    "        print(\" \", end=\"\")\n",
    "    \n",
    "    # Print stars for each row\n",
    "    for k in range(2 * i - 1):\n",
    "        print(\"*\", end=\"\")\n",
    "    \n",
    "    # Move to the next line after each row is printed\n",
    "    print()\n"
   ]
  },
  {
   "cell_type": "code",
   "execution_count": 18,
   "id": "27ae73ce-5170-402f-a692-8a5c785be6f0",
   "metadata": {},
   "outputs": [
    {
     "name": "stdout",
     "output_type": "stream",
     "text": [
      "         *\n",
      "        ***\n",
      "       *****\n",
      "      *******\n",
      "     *********\n",
      "    ***********\n",
      "   *************\n",
      "  ***************\n",
      " *****************\n",
      "*******************\n",
      "         | |\n",
      "         | |\n",
      "         | |\n"
     ]
    }
   ],
   "source": [
    "n = 10\n",
    "for i in range(1, n + 1):\n",
    "    # Print spaces before the stars\n",
    "    for j in range(n - i):\n",
    "        print(\" \", end=\"\")\n",
    "    \n",
    "    # Print stars for each row\n",
    "    for k in range(2 * i - 1):\n",
    "        print(\"*\", end=\"\")\n",
    "    \n",
    "    # Move to the next line after each row is printed\n",
    "    print()\n",
    "\n",
    "# Print the tree trunk\n",
    "for i in range(3):\n",
    "    print(\" \" * (n - 1) + \"| |\")\n"
   ]
  },
  {
   "cell_type": "code",
   "execution_count": null,
   "id": "ca99b521-bbe0-4330-b60d-b2a74bfe84a1",
   "metadata": {},
   "outputs": [],
   "source": []
  }
 ],
 "metadata": {
  "kernelspec": {
   "display_name": "Python 3 (ipykernel)",
   "language": "python",
   "name": "python3"
  },
  "language_info": {
   "codemirror_mode": {
    "name": "ipython",
    "version": 3
   },
   "file_extension": ".py",
   "mimetype": "text/x-python",
   "name": "python",
   "nbconvert_exporter": "python",
   "pygments_lexer": "ipython3",
   "version": "3.10.8"
  }
 },
 "nbformat": 4,
 "nbformat_minor": 5
}
