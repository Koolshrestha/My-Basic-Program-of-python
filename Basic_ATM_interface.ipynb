{
 "cells": [
  {
   "cell_type": "code",
   "execution_count": 1,
   "id": "aa69b1d3-6a49-4dc1-82bd-f4e205b14e99",
   "metadata": {},
   "outputs": [
    {
     "name": "stdin",
     "output_type": "stream",
     "text": [
      "Enter The total amount in your bank ₹  100000\n",
      "Enter the amount you want to withdraw ₹  3500\n",
      "Enter the number of times you want to withdraw:  2\n"
     ]
    },
    {
     "name": "stdout",
     "output_type": "stream",
     "text": [
      "Your current balance is ₹ 96500\n",
      "Your current balance is ₹ 93000\n",
      "Happy to serve\n"
     ]
    }
   ],
   "source": [
    "a = int(input(\"Enter The total amount in your bank ₹ \"))\n",
    "b = int(input(\"Enter the amount you want to withdraw ₹ \"))\n",
    "c = int(input(\"Enter the number of times you want to withdraw: \"))\n",
    "d = c\n",
    "\n",
    "while d > 0:\n",
    "    if a >= b and a >= 100:\n",
    "        a -= b\n",
    "        print(\"Your current balance is ₹\", a)\n",
    "    else:\n",
    "        print(\"You have insufficient balance or the amount to withdraw is invalid.\")\n",
    "    d -= 1\n",
    "\n",
    "print(\"Happy to serve\")"
   ]
  },
  {
   "cell_type": "code",
   "execution_count": null,
   "id": "27319c32-e53f-4de4-bc05-e80b9d5a7b24",
   "metadata": {},
   "outputs": [],
   "source": []
  }
 ],
 "metadata": {
  "kernelspec": {
   "display_name": "Python 3 (ipykernel)",
   "language": "python",
   "name": "python3"
  },
  "language_info": {
   "codemirror_mode": {
    "name": "ipython",
    "version": 3
   },
   "file_extension": ".py",
   "mimetype": "text/x-python",
   "name": "python",
   "nbconvert_exporter": "python",
   "pygments_lexer": "ipython3",
   "version": "3.10.8"
  }
 },
 "nbformat": 4,
 "nbformat_minor": 5
}
